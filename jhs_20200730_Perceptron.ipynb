{
 "cells": [
  {
   "cell_type": "code",
   "execution_count": 1,
   "metadata": {},
   "outputs": [],
   "source": [
    "# 초기 설정\n",
    "import sys\n",
    "assert sys.version_info >= (3, 5)\n",
    "import sklearn\n",
    "assert sklearn.__version__ >= \"0.20\"\n",
    "import numpy as np\n",
    "import os\n",
    "%matplotlib inline\n",
    "import matplotlib as mpl\n",
    "import matplotlib.pyplot as plt\n",
    "import warnings\n",
    "warnings.filterwarnings(action=\"ignore\", message=\"internal gelsd\")\n",
    "\n",
    "mpl.rc('axes', labelsize=14)\n",
    "mpl.rc('xtick', labelsize=12)\n",
    "mpl.rc('ytick', labelsize=12)\n",
    "\n",
    "PROJECT_ROOT_DIR = \".\"\n",
    "CHARTER_ID = \"end_to_end_project\"\n",
    "IMAGE_PATH = os.path.join(PROJECT_ROOT_DIR, \"images\", CHARTER_ID)\n",
    "os.makedirs(IMAGE_PATH, exist_ok=True)\n",
    "\n",
    "# 그림을 저장하는 method\n",
    "def save_fig(fig_id, tight_layout=True, fig_extension=\"png\", resolution = 300):\n",
    "    path = os.path.join(IMAGE_PATH, fig_id + \".\"+ fig_extension)\n",
    "    print(\"그림 저장\", path, fig_id)\n",
    "    if tight_layout:\n",
    "        plt.tight_layout()\n",
    "    plt.savefig(path, format=fig_extension, dpi=resolution)"
   ]
  },
  {
   "cell_type": "markdown",
   "metadata": {},
   "source": [
    "## Perceptron"
   ]
  },
  {
   "cell_type": "code",
   "execution_count": 2,
   "metadata": {},
   "outputs": [],
   "source": [
    "def AND(x1, x2):\n",
    "    w1, w2, theta = 0.5, 0.5, 0.7\n",
    "    tmp = x1*w2 + x2*w2\n",
    "    if tmp <= theta:\n",
    "        return 0 \n",
    "    elif tmp > theta:\n",
    "        return 1"
   ]
  },
  {
   "cell_type": "code",
   "execution_count": 3,
   "metadata": {},
   "outputs": [
    {
     "data": {
      "text/plain": [
       "0"
      ]
     },
     "execution_count": 3,
     "metadata": {},
     "output_type": "execute_result"
    }
   ],
   "source": [
    "AND(0, 0)"
   ]
  },
  {
   "cell_type": "code",
   "execution_count": 4,
   "metadata": {},
   "outputs": [
    {
     "data": {
      "text/plain": [
       "0"
      ]
     },
     "execution_count": 4,
     "metadata": {},
     "output_type": "execute_result"
    }
   ],
   "source": [
    "AND(1, 0)"
   ]
  },
  {
   "cell_type": "code",
   "execution_count": 5,
   "metadata": {},
   "outputs": [
    {
     "data": {
      "text/plain": [
       "0"
      ]
     },
     "execution_count": 5,
     "metadata": {},
     "output_type": "execute_result"
    }
   ],
   "source": [
    "AND(0, 1)"
   ]
  },
  {
   "cell_type": "code",
   "execution_count": 6,
   "metadata": {},
   "outputs": [
    {
     "data": {
      "text/plain": [
       "1"
      ]
     },
     "execution_count": 6,
     "metadata": {},
     "output_type": "execute_result"
    }
   ],
   "source": [
    "AND(1,1)"
   ]
  },
  {
   "cell_type": "markdown",
   "metadata": {},
   "source": [
    "### 가중치(weight)와 편향(bias)\n",
    "- 가중치 : 입력이 결과에 주는 영향력(중요도) 조절\n",
    "- 편향 : 뉴런이 얼마나 쉽게 활성화 하느냐를 조정"
   ]
  },
  {
   "cell_type": "markdown",
   "metadata": {},
   "source": [
    "#### AND GATE"
   ]
  },
  {
   "cell_type": "code",
   "execution_count": 8,
   "metadata": {},
   "outputs": [],
   "source": [
    "def AND(x1, x2):\n",
    "    x = np.array([x1, x2])\n",
    "    w = np.array([0.5, 0.5])\n",
    "    b = -0.7\n",
    "    tmp = np.sum(w*x) + b\n",
    "    if tmp <= 0:\n",
    "        return 0 \n",
    "    else:\n",
    "        return 1"
   ]
  },
  {
   "cell_type": "code",
   "execution_count": 11,
   "metadata": {},
   "outputs": [
    {
     "name": "stdout",
     "output_type": "stream",
     "text": [
      "========== A N D ==========\n",
      "1\n",
      "0\n",
      "0\n",
      "0\n",
      "========== A N D ==========\n"
     ]
    }
   ],
   "source": [
    "print(\"========== A N D ==========\")\n",
    "print(AND(1, 1))\n",
    "print(AND(1, 0))\n",
    "print(AND(0, 1))\n",
    "print(AND(0, 0))\n",
    "print(\"========== A N D ==========\")"
   ]
  },
  {
   "cell_type": "markdown",
   "metadata": {},
   "source": [
    "#### NAND"
   ]
  },
  {
   "cell_type": "code",
   "execution_count": 14,
   "metadata": {},
   "outputs": [],
   "source": [
    "def NAND(x1, x2):\n",
    "    x = np.array([x1, x2])\n",
    "    w = np.array([-0.5, -0.5])\n",
    "    b = 0.7\n",
    "    tmp = np.sum(w*x) + b\n",
    "    if tmp <= 0:\n",
    "        return 0 \n",
    "    else:\n",
    "        return 1"
   ]
  },
  {
   "cell_type": "code",
   "execution_count": 16,
   "metadata": {},
   "outputs": [
    {
     "name": "stdout",
     "output_type": "stream",
     "text": [
      "========== N A N D ==========\n",
      "0\n",
      "1\n",
      "1\n",
      "1\n",
      "========== N A N D ==========\n"
     ]
    }
   ],
   "source": [
    "print(\"========== N A N D ==========\")\n",
    "print(NAND(1, 1))\n",
    "print(NAND(1, 0))\n",
    "print(NAND(0, 1))\n",
    "print(NAND(0, 0))\n",
    "print(\"========== N A N D ==========\")"
   ]
  },
  {
   "cell_type": "markdown",
   "metadata": {},
   "source": [
    "#### OR"
   ]
  },
  {
   "cell_type": "code",
   "execution_count": 17,
   "metadata": {},
   "outputs": [],
   "source": [
    "def OR(x1, x2):\n",
    "    x = np.array([x1, x2])\n",
    "    w = np.array([0.5, 0.5])\n",
    "    b = -0.2\n",
    "    tmp = np.sum(w*x) + b\n",
    "    if tmp <= 0:\n",
    "        return 0 \n",
    "    else:\n",
    "        return 1"
   ]
  },
  {
   "cell_type": "code",
   "execution_count": 18,
   "metadata": {},
   "outputs": [
    {
     "name": "stdout",
     "output_type": "stream",
     "text": [
      "========== O R ==========\n",
      "1\n",
      "1\n",
      "1\n",
      "0\n",
      "========== O R ==========\n"
     ]
    }
   ],
   "source": [
    "print(\"========== O R ==========\")\n",
    "print(OR(1, 1))\n",
    "print(OR(1, 0))\n",
    "print(OR(0, 1))\n",
    "print(OR(0, 0))\n",
    "print(\"========== O R ==========\")"
   ]
  },
  {
   "cell_type": "markdown",
   "metadata": {},
   "source": [
    "#### XOR\n",
    "- AND, NAND, OR은 같은 구조의 PERCEPTRON임\n",
    "- 차이는 가중치 매개변수의 값\n",
    "- XOR 게이트는 직선 하나로 나눌 수 없음\n",
    "- 단층 퍼셉트론으로는 비선형 영역을 분리할 수 없다\n",
    "- 다층 퍼셉트론으로 만들 수 있음"
   ]
  },
  {
   "cell_type": "code",
   "execution_count": 21,
   "metadata": {},
   "outputs": [],
   "source": [
    "def XOR(x1, x2):\n",
    "    s1 = NAND(x1, x2)\n",
    "    s2 = OR(x1, x2)\n",
    "    y = AND(s1, s2)\n",
    "    return y"
   ]
  },
  {
   "cell_type": "code",
   "execution_count": 22,
   "metadata": {},
   "outputs": [
    {
     "name": "stdout",
     "output_type": "stream",
     "text": [
      "========== X O R ==========\n",
      "1\n",
      "1\n",
      "1\n",
      "0\n",
      "========== X O R ==========\n"
     ]
    }
   ],
   "source": [
    "print(\"========== X O R ==========\")\n",
    "print(OR(1, 1))\n",
    "print(OR(1, 0))\n",
    "print(OR(0, 1))\n",
    "print(OR(0, 0))\n",
    "print(\"========== X O R ==========\")"
   ]
  },
  {
   "cell_type": "markdown",
   "metadata": {},
   "source": [
    "### Conclusion\n",
    "- 선형으로 해결하지 못하는 것은 layer를 쌓아서 해결할 수 있음\n",
    "- layer가 많아질수록 성능은 올라가지만 일반화가 안됨\n",
    "- 특정 parameter에만 적합한 모델이 됨"
   ]
  },
  {
   "cell_type": "code",
   "execution_count": null,
   "metadata": {},
   "outputs": [],
   "source": []
  }
 ],
 "metadata": {
  "kernelspec": {
   "display_name": "Python 3",
   "language": "python",
   "name": "python3"
  },
  "language_info": {
   "codemirror_mode": {
    "name": "ipython",
    "version": 3
   },
   "file_extension": ".py",
   "mimetype": "text/x-python",
   "name": "python",
   "nbconvert_exporter": "python",
   "pygments_lexer": "ipython3",
   "version": "3.7.7"
  }
 },
 "nbformat": 4,
 "nbformat_minor": 4
}
