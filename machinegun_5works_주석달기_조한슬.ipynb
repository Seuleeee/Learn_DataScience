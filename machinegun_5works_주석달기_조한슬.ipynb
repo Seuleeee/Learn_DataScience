{
 "cells": [
  {
   "cell_type": "code",
   "execution_count": 1,
   "metadata": {},
   "outputs": [],
   "source": [
    "from sklearn.base import BaseEstimator, TransformerMixin\n",
    "\n",
    "rooms_ix, bedrooms_ix, population_ix, households_ix = 3, 4, 5, 6 # housing.to_numpy()의 열마다 인덱스를 정함\n",
    "\n",
    "class CombineAttributesAdder(BaseEstimator, TransformerMixin): # 클래스 선언\n",
    "    \n",
    "    def __init__(self, add_bedrooms_per_room = True): # *args 또는 **kargs 없음\n",
    "        '''\n",
    "            초기화 메소드, 객체가 만들어질 때 자동으로 호출되어 특성을 정함\n",
    "        '''\n",
    "        self.add_bedrooms_per_room = add_bedrooms_per_room # hyper parameter로 받은 add_bedrooms_per_room로 초기화 (True or False)\n",
    "    \n",
    "    def fit(self, X, y=None):\n",
    "        return self # 아무것도 안함\n",
    "    \n",
    "    def transform(self, X, y=None):\n",
    "        \n",
    "        # X = housing.to_numpy() 로 가정함\n",
    "        \n",
    "        rooms_per_household = X[:, rooms_ix] / X[:, households_ix] # housing[\"households\"] 당 housing[\"total_rooms\"]\n",
    "        population_per_household = X[:, population_ix] / X[:, households_ix] # housing[\"households\"] 당 housing[\"population\"]\n",
    "        \n",
    "        if self.add_bedrooms_per_room: # add_bedrooms_per_room 가 True 라면,\n",
    "            bedrooms_per_room = X[:, bedrooms_ix] / X[:, rooms_ix] # housing[\"total_bedrooms\"] 당 housing[\"total_rooms\"]\n",
    "\n",
    "            return np.c_[X, rooms_per_household, population_per_household, bedrooms_per_room] # 3개의 list를 붙여서 출력\n",
    "        else:\n",
    "            return np.c_[X, rooms_per_household, population_per_household] # 2개의 list를 붙여서 출력 (add_bedrooms_per_room == False 일때)"
   ]
  }
 ],
 "metadata": {
  "kernelspec": {
   "display_name": "Python 3",
   "language": "python",
   "name": "python3"
  },
  "language_info": {
   "codemirror_mode": {
    "name": "ipython",
    "version": 3
   },
   "file_extension": ".py",
   "mimetype": "text/x-python",
   "name": "python",
   "nbconvert_exporter": "python",
   "pygments_lexer": "ipython3",
   "version": "3.7.7"
  }
 },
 "nbformat": 4,
 "nbformat_minor": 4
}
